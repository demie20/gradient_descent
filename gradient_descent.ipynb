{
  "nbformat": 4,
  "nbformat_minor": 0,
  "metadata": {
    "colab": {
      "name": "gradient descent.ipynb",
      "provenance": [],
      "authorship_tag": "ABX9TyNHzDJb+BNF6DjHfQohROBi",
      "include_colab_link": true
    },
    "kernelspec": {
      "name": "python3",
      "display_name": "Python 3"
    },
    "language_info": {
      "name": "python"
    }
  },
  "cells": [
    {
      "cell_type": "markdown",
      "metadata": {
        "id": "view-in-github",
        "colab_type": "text"
      },
      "source": [
        "<a href=\"https://colab.research.google.com/github/demie20/gradient_descent/blob/main/gradient_descent.ipynb\" target=\"_parent\"><img src=\"https://colab.research.google.com/assets/colab-badge.svg\" alt=\"Open In Colab\"/></a>"
      ]
    },
    {
      "cell_type": "code",
      "metadata": {
        "colab": {
          "base_uri": "https://localhost:8080/"
        },
        "id": "kXGp0sWm_Ml9",
        "outputId": "f1f7c0f7-0c59-463f-ebdd-613cf6aae0cb"
      },
      "source": [
        "import numpy\n",
        "\n",
        "# List of input, output pairs\n",
        "train_data = (\n",
        "    ((5, 2, 3), 15),\n",
        "    ((6, 5, 9), 25),\n",
        "    ((11, 12, 13), 41),\n",
        "    ((1, 1, 1), 8),\n",
        "    ((11, 12, 13), 41),\n",
        ")\n",
        "test_data = (((515, 22, 13), 555), ((61, 35, 49), 150))\n",
        "parameter_vector = [2, 4, 1, 5]\n",
        "m = len(train_data)\n",
        "LEARNING_RATE = 0.009\n",
        "\n",
        "\n",
        "def _error(example_no, data_set=\"train\"):\n",
        "    
        "    return calculate_hypothesis_value(example_no, data_set) - output(\n",
        "        example_no, data_set\n",
        "    )\n",
        "\n",
        "\n",
        "def _hypothesis_value(data_input_tuple):\n",
        "    
        "    hyp_val = 0\n",
        "    for i in range(len(parameter_vector) - 1):\n",
        "        hyp_val += data_input_tuple[i] * parameter_vector[i + 1]\n",
        "    hyp_val += parameter_vector[0]\n",
        "    return hyp_val\n",
        "\n",
        "\n",
        "def output(example_no, data_set):\n",
        "    
        "    if data_set == \"train\":\n",
        "        return train_data[example_no][1]\n",
        "    elif data_set == \"test\":\n",
        "        return test_data[example_no][1]\n",
        "\n",
        "\n",
        "def calculate_hypothesis_value(example_no, data_set):\n",
        "   
        "    if data_set == \"train\":\n",
        "        return _hypothesis_value(train_data[example_no][0])\n",
        "    elif data_set == \"test\":\n",
        "        return _hypothesis_value(test_data[example_no][0])\n",
        "\n",
        "\n",
        "def summation_of_cost_derivative(index, end=m):\n",
        "    
        "    summation_value = 0\n",
        "    for i in range(end):\n",
        "        if index == -1:\n",
        "            summation_value += _error(i)\n",
        "        else:\n",
        "            summation_value += _error(i) * train_data[i][0][index]\n",
        "    return summation_value\n",
        "\n",
        "\n",
        "def get_cost_derivative(index):\n",
        "   
        "    cost_derivative_value = summation_of_cost_derivative(index, m) / m\n",
        "    return cost_derivative_value\n",
        "\n",
        "\n",
        "def run_gradient_descent():\n",
        "    global parameter_vector\n",
        "    # Tune these values to set a tolerance value for predicted output\n",
        "    absolute_error_limit = 0.000002\n",
        "    relative_error_limit = 0\n",
        "    j = 0\n",
        "    while True:\n",
        "        j += 1\n",
        "        temp_parameter_vector = [0, 0, 0, 0]\n",
        "        for i in range(0, len(parameter_vector)):\n",
        "            cost_derivative = get_cost_derivative(i - 1)\n",
        "            temp_parameter_vector[i] = (\n",
        "                parameter_vector[i] - LEARNING_RATE * cost_derivative\n",
        "            )\n",
        "        if numpy.allclose(\n",
        "            parameter_vector,\n",
        "            temp_parameter_vector,\n",
        "            atol=absolute_error_limit,\n",
        "            rtol=relative_error_limit,\n",
        "        ):\n",
        "            break\n",
        "        parameter_vector = temp_parameter_vector\n",
        "    print((\"Number of iterations:\", j))\n",
        "\n",
        "\n",
        "def test_gradient_descent():\n",
        "    for i in range(len(test_data)):\n",
        "        print((\"Actual output value:\", output(i, \"test\")))\n",
        "        print((\"Hypothesis output:\", calculate_hypothesis_value(i, \"test\")))\n",
        "\n",
        "\n",
        "if __name__ == \"__main__\":\n",
        "    run_gradient_descent()\n",
        "    print(\"\\nTesting gradient descent for a linear hypothesis function.\\n\")\n",
        "    test_gradient_descent()"
      ],
      "execution_count": null,
      "outputs": [
        {
          "output_type": "stream",
          "name": "stdout",
          "text": [
            "('Number of iterations:', 5993)\n",
            "\n",
            "Testing gradient descent for a linear hypothesis function.\n",
            "\n",
            "('Actual output value:', 555)\n",
            "('Hypothesis output:', 555.2244946726337)\n",
            "('Actual output value:', 150)\n",
            "('Hypothesis output:', 150.01694829900705)\n"
          ]
        }
      ]
    },
    {
      "cell_type": "code",
      "metadata": {
        "id": "X76ul_-c_UGv"
      },
      "source": [
        ""
      ],
      "execution_count": null,
      "outputs": []
    }
  ]
}
